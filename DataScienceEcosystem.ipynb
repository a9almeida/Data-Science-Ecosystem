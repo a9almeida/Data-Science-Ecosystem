{
 "cells": [
  {
   "cell_type": "markdown",
   "id": "8475f20f-15ec-4972-80f6-b2ac674e8277",
   "metadata": {},
   "source": [
    "# Data Science Tools and Ecosystem"
   ]
  },
  {
   "cell_type": "markdown",
   "id": "0dea8f1b-6a5b-45ca-94c2-95e71fe86e9b",
   "metadata": {},
   "source": [
    "In this notebook, Data Science Tools and Ecosystem are summarized."
   ]
  },
  {
   "cell_type": "markdown",
   "id": "85bff3d5-4e4c-480e-b15d-35b55698a3fa",
   "metadata": {},
   "source": [
    "**Objectives:**\n",
    "- List popular languages for Data Science\n",
    "- List popular libraries for Data Science\n",
    "- List of Data Science Tools"
   ]
  },
  {
   "cell_type": "markdown",
   "id": "7e78f99f-0488-4abb-a519-ae9a6dbee72a",
   "metadata": {},
   "source": [
    "Some of the popular languages that Data Scientists use are:\n",
    "\n",
    "1. Python\n",
    "2. R\n",
    "3. SQL\n",
    "5. Scala\n",
    "6. Julia\n",
    "7. Java\n",
    "8. C++"
   ]
  },
  {
   "cell_type": "markdown",
   "id": "a7fa58fc-c7c9-4f3d-9514-65ec0ad3211d",
   "metadata": {},
   "source": [
    "Some of the commonly used libraries used by Data Scientists include:\n",
    "\n",
    "1. Pandas\n",
    "2. NumPy\n",
    "3. Matplot\n",
    "4. Seaborn\n",
    "5. Scikit-learn"
   ]
  },
  {
   "cell_type": "markdown",
   "id": "8be036cb-20d9-4851-b946-d0e19a09ab86",
   "metadata": {},
   "source": [
    "|Data Science Tools|\n",
    "|------------------|\n",
    "|Data Management|\n",
    "|Data Integration & Transformation|\n",
    "|Data Visualization|\n",
    "|Model Deployment|"
   ]
  },
  {
   "cell_type": "markdown",
   "id": "0aad0f22-cad8-41c3-84b3-74a2bcaf322e",
   "metadata": {},
   "source": [
    "### Below are a few examples of evaluating arithmetic expressions in Python"
   ]
  },
  {
   "cell_type": "code",
   "execution_count": 1,
   "id": "46f2cadb-4c8b-4c7f-8362-a0b4c68f1eba",
   "metadata": {},
   "outputs": [
    {
     "data": {
      "text/plain": [
       "17"
      ]
     },
     "execution_count": 1,
     "metadata": {},
     "output_type": "execute_result"
    }
   ],
   "source": [
    "# This a simple arithmetic expression to multiply then add integers\n",
    "(3*4)+5"
   ]
  },
  {
   "cell_type": "code",
   "execution_count": 6,
   "id": "0313515b-1a28-437a-91e6-d1094b3fc455",
   "metadata": {},
   "outputs": [
    {
     "data": {
      "text/plain": [
       "3.3333333333333335"
      ]
     },
     "execution_count": 6,
     "metadata": {},
     "output_type": "execute_result"
    }
   ],
   "source": [
    "# This will convert 200 minutes to hours by diving by 60\n",
    "200 / 60"
   ]
  },
  {
   "cell_type": "markdown",
   "id": "78cee799-3c1b-4b19-a58a-fd8d389f68d2",
   "metadata": {},
   "source": [
    "## Author\n",
    "Aliya Almeida"
   ]
  },
  {
   "cell_type": "code",
   "execution_count": null,
   "id": "9026dc29-e8e0-41b4-893c-3244fa4f8e5a",
   "metadata": {},
   "outputs": [],
   "source": []
  }
 ],
 "metadata": {
  "kernelspec": {
   "display_name": "Python 3 (ipykernel)",
   "language": "python",
   "name": "python3"
  },
  "language_info": {
   "codemirror_mode": {
    "name": "ipython",
    "version": 3
   },
   "file_extension": ".py",
   "mimetype": "text/x-python",
   "name": "python",
   "nbconvert_exporter": "python",
   "pygments_lexer": "ipython3",
   "version": "3.12.7"
  }
 },
 "nbformat": 4,
 "nbformat_minor": 5
}
